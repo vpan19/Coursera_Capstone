{
 "cells": [
  {
   "cell_type": "code",
   "execution_count": 106,
   "metadata": {},
   "outputs": [],
   "source": [
    "import pandas as pd\n"
   ]
  },
  {
   "cell_type": "code",
   "execution_count": 113,
   "metadata": {},
   "outputs": [
    {
     "data": {
      "text/plain": [
       "(103, 3)"
      ]
     },
     "execution_count": 113,
     "metadata": {},
     "output_type": "execute_result"
    }
   ],
   "source": [
    "tables = pd.read_html('https://en.wikipedia.org/wiki/List_of_postal_codes_of_Canada:_M',header=0)\n",
    "#Appending Similar Neighbourhoods\n",
    "tb = tables[0].groupby(['Postcode','Borough'])['Neighbourhood'].apply(','.join)\n",
    "t2=pd.DataFrame(tb)\n",
    "#Dropping Not Assigned Neighbourhoods\n",
    "t3=t2.reset_index()\n",
    "t3=t3[t3.Borough != 'Not assigned']\n",
    "t3 = t3.sort_values(by=['Postcode','Borough'])\n",
    "t3.reset_index(inplace=True)\n",
    "t3.drop('index',axis=1,inplace=True)\n",
    "#Number of rows\n",
    "t3.shape"
   ]
  }
 ],
 "metadata": {
  "kernelspec": {
   "display_name": "Python 3",
   "language": "python",
   "name": "python3"
  },
  "language_info": {
   "codemirror_mode": {
    "name": "ipython",
    "version": 3
   },
   "file_extension": ".py",
   "mimetype": "text/x-python",
   "name": "python",
   "nbconvert_exporter": "python",
   "pygments_lexer": "ipython3",
   "version": "3.7.0"
  }
 },
 "nbformat": 4,
 "nbformat_minor": 2
}
